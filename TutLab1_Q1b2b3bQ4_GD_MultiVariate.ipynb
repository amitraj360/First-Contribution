{
  "cells": [
    {
      "cell_type": "markdown",
      "metadata": {
        "id": "view-in-github",
        "colab_type": "text"
      },
      "source": [
        "<a href=\"https://colab.research.google.com/github/amitraj360/First-Contribution/blob/main/TutLab1_Q1b2b3bQ4_GD_MultiVariate.ipynb\" target=\"_parent\"><img src=\"https://colab.research.google.com/assets/colab-badge.svg\" alt=\"Open In Colab\"/></a>"
      ]
    },
    {
      "cell_type": "code",
      "execution_count": 1,
      "metadata": {
        "colab": {
          "base_uri": "https://localhost:8080/"
        },
        "id": "tlH4ktl_PNsy",
        "outputId": "b4e1e7a6-115f-40d7-d665-4579c30a6618"
      },
      "outputs": [
        {
          "output_type": "stream",
          "name": "stdout",
          "text": [
            "Iteration 0 | Cost: 242.925850\n",
            "Iteration 1 | Cost: 153.218698\n",
            "Iteration 2 | Cost: 113.360692\n",
            "Iteration 3 | Cost: 95.607032\n",
            "Iteration 4 | Cost: 87.655082\n",
            "Iteration 5 | Cost: 84.049592\n",
            "Iteration 6 | Cost: 82.371586\n",
            "Iteration 7 | Cost: 81.548440\n",
            "Iteration 8 | Cost: 81.104528\n",
            "Iteration 9 | Cost: 80.828948\n",
            "Iteration 10 | Cost: 80.628179\n",
            "Iteration 11 | Cost: 80.460754\n",
            "Iteration 12 | Cost: 80.308284\n",
            "Iteration 13 | Cost: 80.162615\n",
            "Iteration 14 | Cost: 80.020130\n",
            "Iteration 15 | Cost: 79.879226\n",
            "Iteration 16 | Cost: 79.739192\n",
            "Iteration 17 | Cost: 79.599710\n",
            "Iteration 18 | Cost: 79.460642\n",
            "Iteration 19 | Cost: 79.321924\n",
            "Iteration 20 | Cost: 79.183528\n",
            "Iteration 21 | Cost: 79.045441\n",
            "Iteration 22 | Cost: 78.907658\n",
            "Iteration 23 | Cost: 78.770175\n",
            "Iteration 24 | Cost: 78.632990\n",
            "Iteration 25 | Cost: 78.496103\n",
            "Iteration 26 | Cost: 78.359512\n",
            "Iteration 27 | Cost: 78.223217\n",
            "Iteration 28 | Cost: 78.087217\n",
            "Iteration 29 | Cost: 77.951512\n",
            "Iteration 30 | Cost: 77.816100\n",
            "Iteration 31 | Cost: 77.680981\n",
            "Iteration 32 | Cost: 77.546156\n",
            "Iteration 33 | Cost: 77.411622\n",
            "Iteration 34 | Cost: 77.277379\n",
            "Iteration 35 | Cost: 77.143427\n",
            "Iteration 36 | Cost: 77.009764\n",
            "Iteration 37 | Cost: 76.876392\n",
            "Iteration 38 | Cost: 76.743308\n",
            "Iteration 39 | Cost: 76.610512\n",
            "Iteration 40 | Cost: 76.478003\n",
            "Iteration 41 | Cost: 76.345782\n",
            "Iteration 42 | Cost: 76.213846\n",
            "Iteration 43 | Cost: 76.082197\n",
            "Iteration 44 | Cost: 75.950832\n",
            "Iteration 45 | Cost: 75.819752\n",
            "Iteration 46 | Cost: 75.688955\n",
            "Iteration 47 | Cost: 75.558442\n",
            "Iteration 48 | Cost: 75.428211\n",
            "Iteration 49 | Cost: 75.298262\n",
            "[1.15735908 1.26032486 1.41847552]\n"
          ]
        }
      ],
      "source": [
        "import numpy as np\n",
        "import random\n",
        "\n",
        "# m denotes the number of examples here, not the number of features\n",
        "def gradientDescent(x, y, theta, alpha, m, numIterations):\n",
        "    cost_history = np.zeros(numIterations)\n",
        "    xTrans = x.transpose()\n",
        "    for i in range(0, numIterations):\n",
        "        hypothesis = np.dot(x, theta)\n",
        "        loss = hypothesis - y\n",
        "        # avg cost per example (the 2 in 2*m doesn't really matter here.\n",
        "        # But to be consistent with the gradient, I include it)\n",
        "        #cost = np.sum(loss ** 2) / (2 * m)\n",
        "        \n",
        "        cost_history[i] = np.sum(loss ** 2) / (2 * m)\n",
        "        print(\"Iteration %d | Cost: %f\" % (i, cost_history[i]))\n",
        "        # avg gradient per example\n",
        "        gradient = np.dot(xTrans, loss) / m\n",
        "        # update\n",
        "        theta = theta - alpha * gradient\n",
        "    return theta, cost_history\n",
        "\n",
        "\n",
        "def genData(numPoints, bias, variance):\n",
        "    x = np.zeros(shape=(numPoints, 3))\n",
        "    y = np.zeros(shape=numPoints)\n",
        "    # basically a straight line\n",
        "    for i in range(0, numPoints):\n",
        "        # bias feature\n",
        "        x[i][0] = 1\n",
        "        x[i][1] = i\n",
        "        x[i][2] = np.sqrt(i)\n",
        "        # our target variable\n",
        "        y[i] = (i + bias) + random.uniform(0, 1) * variance\n",
        "    return x, y\n",
        "\n",
        "# gen 100 points with a bias of 25 and 10 variance as a bit of noise\n",
        "x, y = genData(100, 25, 10)\n",
        "m, n = np.shape(x)\n",
        "alpha = 0.0005 #learrning  rate \n",
        "theta = np.ones(n)\n",
        "numIterations= 50 #number of iterations\n",
        "cost_history = np.zeros(numIterations)\n",
        "theta, cost_history = gradientDescent(x, y, theta, alpha, m, numIterations)\n",
        "print(theta)"
      ]
    },
    {
      "cell_type": "code",
      "execution_count": 2,
      "metadata": {
        "colab": {
          "base_uri": "https://localhost:8080/",
          "height": 312
        },
        "id": "Xw4EB4acPNs0",
        "outputId": "a6d90bbe-6d08-440c-906e-3b03966a6623"
      },
      "outputs": [
        {
          "output_type": "execute_result",
          "data": {
            "text/plain": [
              "Text(0.5, 1.0, 'Convergence of gradient descent')"
            ]
          },
          "metadata": {},
          "execution_count": 2
        },
        {
          "output_type": "display_data",
          "data": {
            "text/plain": [
              "<Figure size 432x288 with 1 Axes>"
            ],
            "image/png": "[encoded data removed]"
          },
          "metadata": {
            "needs_background": "light"
          }
        }
      ],
      "source": [
        "import matplotlib.pyplot as plt\n",
        "plt.plot(range(1, numIterations +1), cost_history, color ='blue')\n",
        "plt.rcParams[\"figure.figsize\"] = (10,6)\n",
        "plt.grid()\n",
        "plt.xlabel(\"Number of iterations\")\n",
        "plt.ylabel(\"cost (J)\")\n",
        "plt.title(\"Convergence of gradient descent\")"
      ]
    },
    {
      "cell_type": "code",
      "execution_count": 3,
      "metadata": {
        "id": "x6tjmvd8PNs0"
      },
      "outputs": [],
      "source": [
        "import numpy as np\n",
        "import random"
      ]
    },
    {
      "cell_type": "code",
      "execution_count": 4,
      "metadata": {
        "id": "R2U6O5JMPNs1"
      },
      "outputs": [],
      "source": [
        "x, y = genData(10, 25, 10)"
      ]
    },
    {
      "cell_type": "code",
      "execution_count": 5,
      "metadata": {
        "colab": {
          "base_uri": "https://localhost:8080/"
        },
        "id": "MpNPyEemPNs1",
        "outputId": "bc6e7be1-9f0b-4654-b8e3-434eed7ad1f7"
      },
      "outputs": [
        {
          "output_type": "execute_result",
          "data": {
            "text/plain": [
              "array([[1.        , 0.        , 0.        ],\n",
              "       [1.        , 1.        , 1.        ],\n",
              "       [1.        , 2.        , 1.41421356],\n",
              "       [1.        , 3.        , 1.73205081],\n",
              "       [1.        , 4.        , 2.        ],\n",
              "       [1.        , 5.        , 2.23606798],\n",
              "       [1.        , 6.        , 2.44948974],\n",
              "       [1.        , 7.        , 2.64575131],\n",
              "       [1.        , 8.        , 2.82842712],\n",
              "       [1.        , 9.        , 3.        ]])"
            ]
          },
          "metadata": {},
          "execution_count": 5
        }
      ],
      "source": [
        "x"
      ]
    },
    {
      "cell_type": "code",
      "execution_count": 6,
      "metadata": {
        "colab": {
          "base_uri": "https://localhost:8080/"
        },
        "id": "yLEh3BWRPNs1",
        "outputId": "c82b5e8c-39af-4e6f-b3b1-6a02e60b5ca6"
      },
      "outputs": [
        {
          "output_type": "execute_result",
          "data": {
            "text/plain": [
              "array([31.83223576, 30.96987649, 34.41358441, 36.50235612, 34.70438221,\n",
              "       37.83744863, 34.46789378, 41.00166044, 38.55185786, 41.42338066])"
            ]
          },
          "metadata": {},
          "execution_count": 6
        }
      ],
      "source": [
        "y"
      ]
    },
    {
      "cell_type": "code",
      "execution_count": 7,
      "metadata": {
        "id": "k0TvOrIfPNs1"
      },
      "outputs": [],
      "source": [
        "def Ypredict(x, theta):\n",
        "  return np.dot(x, theta)"
      ]
    },
    {
      "cell_type": "code",
      "execution_count": 8,
      "metadata": {
        "colab": {
          "base_uri": "https://localhost:8080/"
        },
        "id": "cpVV3SV_PNs2",
        "outputId": "6d9d5a89-67e2-4b9b-c383-f3f09a9c3b67"
      },
      "outputs": [
        {
          "output_type": "execute_result",
          "data": {
            "text/plain": [
              "array([ 1.15735908,  3.83615945,  5.6840361 ,  7.39520531,  9.03560954,\n",
              "       10.63079104, 12.19384944, 13.73256653, 15.25201255, 16.75570933])"
            ]
          },
          "metadata": {},
          "execution_count": 8
        }
      ],
      "source": [
        "y_predict =Ypredict(x,theta)\n",
        "y_predict"
      ]
    },
    {
      "cell_type": "code",
      "execution_count": 9,
      "metadata": {
        "colab": {
          "base_uri": "https://localhost:8080/"
        },
        "id": "Gr6XO82RPNs2",
        "outputId": "e617a5ec-90ac-4776-fa89-debe9812bbe3"
      },
      "outputs": [
        {
          "output_type": "execute_result",
          "data": {
            "text/plain": [
              "array([30.67487668, 27.13371704, 28.7295483 , 29.10715081, 25.66877268,\n",
              "       27.20665759, 22.27404433, 27.26909391, 23.29984531, 24.66767133])"
            ]
          },
          "metadata": {},
          "execution_count": 9
        }
      ],
      "source": [
        "error = y-y_predict\n",
        "error"
      ]
    },
    {
      "cell_type": "code",
      "execution_count": 9,
      "metadata": {
        "id": "HhW5gTYyPNs2"
      },
      "outputs": [],
      "source": []
    }
  ],
  "metadata": {
    "kernelspec": {
      "display_name": "Python 3",
      "language": "python",
      "name": "python3"
    },
    "language_info": {
      "codemirror_mode": {
        "name": "ipython",
        "version": 3
      },
      "file_extension": ".py",
      "mimetype": "text/x-python",
      "name": "python",
      "nbconvert_exporter": "python",
      "pygments_lexer": "ipython3",
      "version": "3.7.6"
    },
    "colab": {
      "provenance": [],
      "include_colab_link": true
    }
  },
  "nbformat": 4,
  "nbformat_minor": 0
}